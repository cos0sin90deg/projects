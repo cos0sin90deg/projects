{
 "cells": [
  {
   "cell_type": "markdown",
   "id": "304d9acd",
   "metadata": {},
   "source": [
    "# Метод наименьших квадратов. Обработка экспериментальных данных"
   ]
  },
  {
   "cell_type": "markdown",
   "id": "361280e7",
   "metadata": {},
   "source": [
    "Настоящая программа реализует приближение зависимости измеряемых значений при наличии серии экспериментально определенных значений в конечном числе точек. Зависимость приближается многочленом 3-й степени. В основе программы лежит метод наименьших квадратов. Экспериментальные данные загружаются в Excel-таблицу. Алгоритм использует библиотеки pandas, numpy и matplotlib."
   ]
  },
  {
   "cell_type": "markdown",
   "id": "f32b7e9c",
   "metadata": {},
   "source": [
    "Идея метода наименьших квадратов при приближении зависимости многочленом ax^3 + bx^2 + cx + d заключается в подборе таких коэффициентов a, b, c, d, при которых сумма квадратов отклонений значений функции в измеренных точках от экспериментальных данных была бы минимальной.\n",
    "В таком случае мы получаем функцию, зависящую от 4-х переменных a, b, c, d. Минимум достигается в случае, когда частные производные по всем аргументам равны нулю.\n",
    "Получаем СЛАУ относительно a, b, c, d."
   ]
  },
  {
   "cell_type": "raw",
   "id": "cf42be3c",
   "metadata": {},
   "source": [
    "Для работы программы потребуются библиотеки pandas, numpy и matplotlib:"
   ]
  },
  {
   "cell_type": "code",
   "execution_count": 1,
   "id": "ea58bcfd",
   "metadata": {},
   "outputs": [],
   "source": [
    "import numpy as np\n",
    "import matplotlib.pyplot as plt\n",
    "import pandas as pd"
   ]
  },
  {
   "cell_type": "raw",
   "id": "1b11bbc0",
   "metadata": {},
   "source": [
    "Значения x и y тут импортируются из файла .xls и представляются в виде списка:"
   ]
  },
  {
   "cell_type": "code",
   "execution_count": 2,
   "id": "e7406aa1",
   "metadata": {},
   "outputs": [],
   "source": [
    "data = pd.read_excel(r'C:\\Users\\1\\Desktop\\data.xls')\n",
    "df = pd.DataFrame(data)\n",
    "x = [0] * df.shape[0]\n",
    "y = [0] * df.shape[0]\n",
    "for i in range (0, df.shape[0]):\n",
    "    x[i] = df['x'].iloc[i]\n",
    "    y[i] = df['y'].iloc[i]"
   ]
  },
  {
   "cell_type": "raw",
   "id": "1c4558b3",
   "metadata": {},
   "source": [
    "Устанвливаем границы для графика и обнуляем все вспомогательные переменные:"
   ]
  },
  {
   "cell_type": "code",
   "execution_count": 3,
   "id": "91947559",
   "metadata": {},
   "outputs": [],
   "source": [
    "xmin = min(x) - 1 #левый конец графика\n",
    "xmax = max(x) + 1 #правый конец графика\n",
    "sum6 = 0 #сумма 6-х степеней x_i\n",
    "sum5 = 0 #сумма 5-х степеней x_i\n",
    "sum4 = 0 #сумма 4-х степеней x_i\n",
    "sum3 = 0 #сумма 3-х степеней x_i\n",
    "sum2 = 0 #сумма 2-х степеней x_i\n",
    "sum1 = 0 #сумма x_i\n",
    "sum0 = 0 #число измеренных значений\n",
    "suma = 0 #сумма в правой части 1-го уравнения\n",
    "sumb = 0 #сумма в правой части 2-го уравнения\n",
    "sumc = 0 #сумма в правой части 3-го уравнения\n",
    "sumd = 0 #сумма в правой части 4-го уравнения"
   ]
  },
  {
   "cell_type": "raw",
   "id": "079f03d4",
   "metadata": {},
   "source": [
    "Вычисляем все коэффициенты в левой и правой частях уравнения:"
   ]
  },
  {
   "cell_type": "code",
   "execution_count": 4,
   "id": "6c0a71dc",
   "metadata": {},
   "outputs": [],
   "source": [
    "for number in x:\n",
    "    sum6 += number**6\n",
    "for number in x:\n",
    "    sum5 += number**5\n",
    "    sum4 += number**4\n",
    "    sum3 += number**3\n",
    "    sum2 += number**2\n",
    "    sum1 += number\n",
    "    sum0 += 1\n",
    "for i in range (0, len(x)):\n",
    "    suma += y[i]*(x[i])**3\n",
    "    sumb += y[i]*(x[i])**2\n",
    "    sumc += y[i]*x[i]\n",
    "    sumd += y[i]"
   ]
  },
  {
   "cell_type": "raw",
   "id": "d624603b",
   "metadata": {},
   "source": [
    "Составляем соответсвующую СЛАУ и находим решение с помощью библиотеки numpy:"
   ]
  },
  {
   "cell_type": "code",
   "execution_count": 5,
   "id": "4528db99",
   "metadata": {},
   "outputs": [],
   "source": [
    "a = np.array([[sum6, sum5, sum4, sum3],\n",
    "              [sum5, sum4, sum3, sum2],\n",
    "              [sum4, sum3, sum2, sum1],\n",
    "              [sum3, sum2, sum1, sum0]])\n",
    "b = np.array([suma,\n",
    "              sumb,\n",
    "              sumc,\n",
    "              sumd])\n",
    "c = np.linalg.solve(a, b)"
   ]
  },
  {
   "cell_type": "raw",
   "id": "1b2592a6",
   "metadata": {},
   "source": [
    "Строим график:"
   ]
  },
  {
   "cell_type": "code",
   "execution_count": 8,
   "id": "4f452702",
   "metadata": {},
   "outputs": [
    {
     "data": {
      "image/png": "[encoded data removed]",
      "text/plain": [
       "<Figure size 432x288 with 1 Axes>"
      ]
     },
     "metadata": {
      "needs_background": "light"
     },
     "output_type": "display_data"
    }
   ],
   "source": [
    "t = np.linspace(xmin, xmax, 100)\n",
    "z = c[0]*(t**3) + c[1]*(t**2) + c[2]*t + c[3]\n",
    "plt.plot(t, z, 'k')\n",
    "plt.grid(True)\n",
    "plt.scatter (x, y)\n",
    "plt.show()"
   ]
  },
  {
   "cell_type": "markdown",
   "id": "bd5976fd",
   "metadata": {},
   "source": [
    "Вывод: была написана программа, которая обрабатывает экспериментальные данные и приближает зависимость многочленом 3-й степени с помощью метода наименьших квадратов. Алгоритм использует ресурсы библиотек pandas, numpy и matplotlib."
   ]
  }
 ],
 "metadata": {
  "kernelspec": {
   "display_name": "Python 3",
   "language": "python",
   "name": "python3"
  },
  "language_info": {
   "codemirror_mode": {
    "name": "ipython",
    "version": 3
   },
   "file_extension": ".py",
   "mimetype": "text/x-python",
   "name": "python",
   "nbconvert_exporter": "python",
   "pygments_lexer": "ipython3",
   "version": "3.6.13"
  }
 },
 "nbformat": 4,
 "nbformat_minor": 5
}
